{
  "nbformat": 4,
  "nbformat_minor": 0,
  "metadata": {
    "colab": {
      "name": "CAPS.ipynb",
      "provenance": [],
      "collapsed_sections": [],
      "toc_visible": true,
      "include_colab_link": true
    },
    "kernelspec": {
      "name": "python3",
      "display_name": "Python 3"
    }
  },
  "cells": [
    {
      "cell_type": "markdown",
      "metadata": {
        "id": "view-in-github",
        "colab_type": "text"
      },
      "source": [
        "<a href=\"https://colab.research.google.com/github/19pa1a04e9/AI/blob/master/CAPS.ipynb\" target=\"_parent\"><img src=\"https://colab.research.google.com/assets/colab-badge.svg\" alt=\"Open In Colab\"/></a>"
      ]
    },
    {
      "cell_type": "markdown",
      "metadata": {
        "id": "gofzWibXc-g6",
        "colab_type": "text"
      },
      "source": [
        "##CONTRIBUTIONS\n",
        "* SHAIK KHAJA MASTAN AHMED-19PA1A04E9 \n",
        "* RAVURI PREM CHAND-19PA1A04E0\n",
        "* VAKACHARLA SAI SRI RAM-19PA1A04G7\n",
        "* THOTE PRASHANTH-19PA1A04G1"
      ]
    },
    {
      "cell_type": "markdown",
      "metadata": {
        "id": "Dwo95tKUeYwC",
        "colab_type": "text"
      },
      "source": [
        "##Description:\n",
        "the data set is \"shortage booking demmand\"\n"
      ]
    },
    {
      "cell_type": "markdown",
      "metadata": {
        "id": "ZQZxCiEbewhU",
        "colab_type": "text"
      },
      "source": [
        "##Varibles in our data:\n",
        "* ADULT: the room which are belongs to adults \n",
        "* AGENTS:the room which are specified for agents\n",
        "* ADR:average daily rate that is often used in a lodging indstry\n",
        "*CUSTOMER_TYPE:the type of customer that is lodging in hotel\n"
      ]
    },
    {
      "cell_type": "markdown",
      "metadata": {
        "id": "AsDIoXdLfQ9p",
        "colab_type": "text"
      },
      "source": [
        "##READING DATA:\n"
      ]
    },
    {
      "cell_type": "code",
      "metadata": {
        "id": "r1gueyAYwAsM",
        "colab_type": "code",
        "outputId": "30f877ed-0164-46ea-98ac-20b9a4a1c79d",
        "colab": {
          "base_uri": "https://localhost:8080/",
          "height": 245
        }
      },
      "source": [
        "import pandas as pd\n",
        "import matplotlib.pyplot as plt\n",
        "df=pd.read_csv(\"/content/hotel_bookings.csv\")\n",
        "print(df)\n"
      ],
      "execution_count": 3,
      "outputs": [
        {
          "output_type": "stream",
          "text": [
            "               hotel  is_canceled  ...  reservation_status  reservation_status_date\n",
            "0       Resort Hotel            0  ...           Check-Out               2015-07-01\n",
            "1       Resort Hotel            0  ...           Check-Out               2015-07-01\n",
            "2       Resort Hotel            0  ...           Check-Out               2015-07-02\n",
            "3       Resort Hotel            0  ...           Check-Out               2015-07-02\n",
            "4       Resort Hotel            0  ...           Check-Out               2015-07-03\n",
            "...              ...          ...  ...                 ...                      ...\n",
            "119385    City Hotel            0  ...           Check-Out               2017-09-06\n",
            "119386    City Hotel            0  ...           Check-Out               2017-09-07\n",
            "119387    City Hotel            0  ...           Check-Out               2017-09-07\n",
            "119388    City Hotel            0  ...           Check-Out               2017-09-07\n",
            "119389    City Hotel            0  ...           Check-Out               2017-09-07\n",
            "\n",
            "[119390 rows x 32 columns]\n"
          ],
          "name": "stdout"
        }
      ]
    },
    {
      "cell_type": "markdown",
      "metadata": {
        "id": "T_TkwrcRhEiy",
        "colab_type": "text"
      },
      "source": [
        "##Questions:\n",
        "* How to access first five rows in data set?\n",
        "*How to access last five rows in data set?\n",
        "*What is the dimendions of data set?\n",
        "*What is the size of data set?\n",
        "*How to slice the data set?\n"
      ]
    },
    {
      "cell_type": "code",
      "metadata": {
        "id": "KsKCeMHJ0B3c",
        "colab_type": "code",
        "outputId": "85fe08bc-7fb2-4a49-f365-ab891cf7bcb1",
        "colab": {
          "base_uri": "https://localhost:8080/",
          "height": 82
        }
      },
      "source": [
        "print(df.loc[[0]])"
      ],
      "execution_count": 4,
      "outputs": [
        {
          "output_type": "stream",
          "text": [
            "          hotel  is_canceled  ...  reservation_status  reservation_status_date\n",
            "0  Resort Hotel            0  ...           Check-Out               2015-07-01\n",
            "\n",
            "[1 rows x 32 columns]\n"
          ],
          "name": "stdout"
        }
      ]
    },
    {
      "cell_type": "code",
      "metadata": {
        "id": "FmPNyoFU6JwN",
        "colab_type": "code",
        "outputId": "34edf649-c90f-4e51-b5dc-590f4f2916d3",
        "colab": {
          "base_uri": "https://localhost:8080/",
          "height": 147
        }
      },
      "source": [
        "print(df.head())"
      ],
      "execution_count": 5,
      "outputs": [
        {
          "output_type": "stream",
          "text": [
            "          hotel  is_canceled  ...  reservation_status  reservation_status_date\n",
            "0  Resort Hotel            0  ...           Check-Out               2015-07-01\n",
            "1  Resort Hotel            0  ...           Check-Out               2015-07-01\n",
            "2  Resort Hotel            0  ...           Check-Out               2015-07-02\n",
            "3  Resort Hotel            0  ...           Check-Out               2015-07-02\n",
            "4  Resort Hotel            0  ...           Check-Out               2015-07-03\n",
            "\n",
            "[5 rows x 32 columns]\n"
          ],
          "name": "stdout"
        }
      ]
    },
    {
      "cell_type": "code",
      "metadata": {
        "id": "Hb_X29qS65S9",
        "colab_type": "code",
        "outputId": "994a17d9-a53d-4d51-d902-957f218f9967",
        "colab": {
          "base_uri": "https://localhost:8080/",
          "height": 66
        }
      },
      "source": [
        "print(df.ndim)\n",
        "print(df.size)\n",
        "print(df.shape)"
      ],
      "execution_count": 6,
      "outputs": [
        {
          "output_type": "stream",
          "text": [
            "2\n",
            "3820480\n",
            "(119390, 32)\n"
          ],
          "name": "stdout"
        }
      ]
    },
    {
      "cell_type": "code",
      "metadata": {
        "id": "xMHlD_JB-ODv",
        "colab_type": "code",
        "outputId": "83fa54e0-c43a-431f-f1ac-b2c96a69468d",
        "colab": {
          "base_uri": "https://localhost:8080/",
          "height": 180
        }
      },
      "source": [
        "d=df.iloc[1:10,29:]\n",
        "print(d)"
      ],
      "execution_count": 7,
      "outputs": [
        {
          "output_type": "stream",
          "text": [
            "   total_of_special_requests reservation_status reservation_status_date\n",
            "1                          0          Check-Out              2015-07-01\n",
            "2                          0          Check-Out              2015-07-02\n",
            "3                          0          Check-Out              2015-07-02\n",
            "4                          1          Check-Out              2015-07-03\n",
            "5                          1          Check-Out              2015-07-03\n",
            "6                          0          Check-Out              2015-07-03\n",
            "7                          1          Check-Out              2015-07-03\n",
            "8                          1           Canceled              2015-05-06\n",
            "9                          0           Canceled              2015-04-22\n"
          ],
          "name": "stdout"
        }
      ]
    },
    {
      "cell_type": "code",
      "metadata": {
        "id": "M6EFosIrHmpb",
        "colab_type": "code",
        "outputId": "33c52384-c5fb-4f90-893c-795393b878cb",
        "colab": {
          "base_uri": "https://localhost:8080/",
          "height": 131
        }
      },
      "source": [
        "d=df.loc[0:5,['adults','adr','agent']]\n",
        "print(d)"
      ],
      "execution_count": 8,
      "outputs": [
        {
          "output_type": "stream",
          "text": [
            "   adults   adr  agent\n",
            "0       2   0.0    NaN\n",
            "1       2   0.0    NaN\n",
            "2       1  75.0    NaN\n",
            "3       1  75.0  304.0\n",
            "4       2  98.0  240.0\n",
            "5       2  98.0  240.0\n"
          ],
          "name": "stdout"
        }
      ]
    },
    {
      "cell_type": "code",
      "metadata": {
        "id": "-iPQ_cI2F9tX",
        "colab_type": "code",
        "outputId": "8f211b0f-6611-40ba-aaf2-01281566d1de",
        "colab": {
          "base_uri": "https://localhost:8080/",
          "height": 147
        }
      },
      "source": [
        "#Setting the coloumn as index\n",
        "d.set_index(\"adr\",inplace=True)\n",
        "print(d)"
      ],
      "execution_count": 9,
      "outputs": [
        {
          "output_type": "stream",
          "text": [
            "      adults  agent\n",
            "adr                \n",
            "0.0        2    NaN\n",
            "0.0        2    NaN\n",
            "75.0       1    NaN\n",
            "75.0       1  304.0\n",
            "98.0       2  240.0\n",
            "98.0       2  240.0\n"
          ],
          "name": "stdout"
        }
      ]
    },
    {
      "cell_type": "markdown",
      "metadata": {
        "id": "y2R60Ay_iM2c",
        "colab_type": "text"
      },
      "source": [
        "##DATA VISUALIZATION:\n"
      ]
    },
    {
      "cell_type": "code",
      "metadata": {
        "id": "mQbQzkQU_sLL",
        "colab_type": "code",
        "outputId": "8e848be2-01b6-4daf-e9fa-afdf997f7859",
        "colab": {
          "base_uri": "https://localhost:8080/",
          "height": 292
        }
      },
      "source": [
        "#PLOTTING A BAR GRAPH\n",
        "d.plot(kind='bar')\n",
        "plt.show()"
      ],
      "execution_count": 10,
      "outputs": [
        {
          "output_type": "display_data",
          "data": {
            "image/png": "[encoded data removed]",
            "text/plain": [
              "<Figure size 432x288 with 1 Axes>"
            ]
          },
          "metadata": {
            "tags": []
          }
        }
      ]
    },
    {
      "cell_type": "code",
      "metadata": {
        "id": "7uIfwr9dBpTE",
        "colab_type": "code",
        "outputId": "f90f8b2a-8dd5-4dd9-945e-288289d93243",
        "colab": {
          "base_uri": "https://localhost:8080/",
          "height": 278
        }
      },
      "source": [
        "#plotting scatter line plot\n",
        "d.plot()\n",
        "plt.show()"
      ],
      "execution_count": 11,
      "outputs": [
        {
          "output_type": "display_data",
          "data": {
            "image/png": "[encoded data removed]",
            "text/plain": [
              "<Figure size 432x288 with 1 Axes>"
            ]
          },
          "metadata": {
            "tags": []
          }
        }
      ]
    },
    {
      "cell_type": "code",
      "metadata": {
        "id": "5cysX00CJfsh",
        "colab_type": "code",
        "outputId": "51ad78fe-f106-4716-faec-110d85643d7e",
        "colab": {
          "base_uri": "https://localhost:8080/",
          "height": 265
        }
      },
      "source": [
        "#plotting scatter plot\n",
        "plt.scatter(d['adults'],d['agent'])\n",
        "plt.show()"
      ],
      "execution_count": 12,
      "outputs": [
        {
          "output_type": "display_data",
          "data": {
            "image/png": "[encoded data removed]",
            "text/plain": [
              "<Figure size 432x288 with 1 Axes>"
            ]
          },
          "metadata": {
            "tags": []
          }
        }
      ]
    },
    {
      "cell_type": "markdown",
      "metadata": {
        "id": "S3grLS-QohVx",
        "colab_type": "text"
      },
      "source": [
        "##CONCLUSION:\n",
        "    from above data visuvalisation it is because of increasing demand for hotel rooms at various tourist centers."
      ]
    }
  ]
}